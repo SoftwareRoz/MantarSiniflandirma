{
 "cells": [
  {
   "cell_type": "code",
   "execution_count": null,
   "id": "48042a10",
   "metadata": {},
   "outputs": [],
   "source": [
    "import pandas as pd\n",
    "from sklearn.model_selection import train_test_split # Gerekli kütüphanelerin import edilmesi\n",
    "from sklearn.metrics import accuracy_score"
   ]
  },
  {
   "cell_type": "code",
   "execution_count": 53,
   "id": "8faa7d7d",
   "metadata": {},
   "outputs": [],
   "source": [
    "df = pd.read_csv('mushroom_cleaned.csv') # Veri setini okuma"
   ]
  },
  {
   "cell_type": "code",
   "execution_count": 54,
   "id": "b803e36f",
   "metadata": {},
   "outputs": [
    {
     "data": {
      "text/html": [
       "<div>\n",
       "<style scoped>\n",
       "    .dataframe tbody tr th:only-of-type {\n",
       "        vertical-align: middle;\n",
       "    }\n",
       "\n",
       "    .dataframe tbody tr th {\n",
       "        vertical-align: top;\n",
       "    }\n",
       "\n",
       "    .dataframe thead th {\n",
       "        text-align: right;\n",
       "    }\n",
       "</style>\n",
       "<table border=\"1\" class=\"dataframe\">\n",
       "  <thead>\n",
       "    <tr style=\"text-align: right;\">\n",
       "      <th></th>\n",
       "      <th>cap-diameter</th>\n",
       "      <th>cap-shape</th>\n",
       "      <th>gill-attachment</th>\n",
       "      <th>gill-color</th>\n",
       "      <th>stem-height</th>\n",
       "      <th>stem-width</th>\n",
       "      <th>stem-color</th>\n",
       "      <th>season</th>\n",
       "      <th>class</th>\n",
       "    </tr>\n",
       "  </thead>\n",
       "  <tbody>\n",
       "    <tr>\n",
       "      <th>0</th>\n",
       "      <td>1372</td>\n",
       "      <td>2</td>\n",
       "      <td>2</td>\n",
       "      <td>10</td>\n",
       "      <td>3.807467</td>\n",
       "      <td>1545</td>\n",
       "      <td>11</td>\n",
       "      <td>1.804273</td>\n",
       "      <td>1</td>\n",
       "    </tr>\n",
       "    <tr>\n",
       "      <th>1</th>\n",
       "      <td>1461</td>\n",
       "      <td>2</td>\n",
       "      <td>2</td>\n",
       "      <td>10</td>\n",
       "      <td>3.807467</td>\n",
       "      <td>1557</td>\n",
       "      <td>11</td>\n",
       "      <td>1.804273</td>\n",
       "      <td>1</td>\n",
       "    </tr>\n",
       "    <tr>\n",
       "      <th>2</th>\n",
       "      <td>1371</td>\n",
       "      <td>2</td>\n",
       "      <td>2</td>\n",
       "      <td>10</td>\n",
       "      <td>3.612496</td>\n",
       "      <td>1566</td>\n",
       "      <td>11</td>\n",
       "      <td>1.804273</td>\n",
       "      <td>1</td>\n",
       "    </tr>\n",
       "    <tr>\n",
       "      <th>3</th>\n",
       "      <td>1261</td>\n",
       "      <td>6</td>\n",
       "      <td>2</td>\n",
       "      <td>10</td>\n",
       "      <td>3.787572</td>\n",
       "      <td>1566</td>\n",
       "      <td>11</td>\n",
       "      <td>1.804273</td>\n",
       "      <td>1</td>\n",
       "    </tr>\n",
       "    <tr>\n",
       "      <th>4</th>\n",
       "      <td>1305</td>\n",
       "      <td>6</td>\n",
       "      <td>2</td>\n",
       "      <td>10</td>\n",
       "      <td>3.711971</td>\n",
       "      <td>1464</td>\n",
       "      <td>11</td>\n",
       "      <td>0.943195</td>\n",
       "      <td>1</td>\n",
       "    </tr>\n",
       "  </tbody>\n",
       "</table>\n",
       "</div>"
      ],
      "text/plain": [
       "   cap-diameter  cap-shape  gill-attachment  gill-color  stem-height  \\\n",
       "0          1372          2                2          10     3.807467   \n",
       "1          1461          2                2          10     3.807467   \n",
       "2          1371          2                2          10     3.612496   \n",
       "3          1261          6                2          10     3.787572   \n",
       "4          1305          6                2          10     3.711971   \n",
       "\n",
       "   stem-width  stem-color    season  class  \n",
       "0        1545          11  1.804273      1  \n",
       "1        1557          11  1.804273      1  \n",
       "2        1566          11  1.804273      1  \n",
       "3        1566          11  1.804273      1  \n",
       "4        1464          11  0.943195      1  "
      ]
     },
     "execution_count": 54,
     "metadata": {},
     "output_type": "execute_result"
    }
   ],
   "source": [
    "df.head() # Veri setinin ilk 5 satırı"
   ]
  },
  {
   "cell_type": "code",
   "execution_count": 55,
   "id": "7eabe959",
   "metadata": {},
   "outputs": [],
   "source": [
    "y = df[\"class\"]                         # Verinin bağımlı ve bağımsız değişken olarak ayrılması\n",
    "x = df.drop(columns=[\"class\"], axis=1)"
   ]
  },
  {
   "cell_type": "code",
   "execution_count": 56,
   "id": "0603c309",
   "metadata": {},
   "outputs": [],
   "source": [
    "x_train,x_test,y_train,y_test = train_test_split(x, y, train_size=0.75, random_state=42) # Verinin eğitim ve test veri olarak ayrılması"
   ]
  },
  {
   "cell_type": "code",
   "execution_count": 57,
   "id": "0abb4ef5",
   "metadata": {},
   "outputs": [],
   "source": [
    "from sklearn.ensemble import RandomForestClassifier # Random Forest algoritmasının import edilmesi"
   ]
  },
  {
   "cell_type": "code",
   "execution_count": 58,
   "id": "5c64652d",
   "metadata": {},
   "outputs": [],
   "source": [
    "rf = RandomForestClassifier()  \n",
    "model = rf.fit(x_train,y_train) # Modelin öğrenme aşaması"
   ]
  },
  {
   "cell_type": "code",
   "execution_count": 59,
   "id": "4d57c109",
   "metadata": {},
   "outputs": [],
   "source": [
    "y_pred = model.predict(x_test) # "
   ]
  },
  {
   "cell_type": "code",
   "execution_count": 60,
   "id": "57d9f6dd",
   "metadata": {},
   "outputs": [
    {
     "data": {
      "text/plain": [
       "0.9905248352949886"
      ]
     },
     "execution_count": 60,
     "metadata": {},
     "output_type": "execute_result"
    }
   ],
   "source": [
    "accuracy_score(y_test,y_pred) # Modelin doğruluk skorunun hesaplanması "
   ]
  },
  {
   "cell_type": "markdown",
   "id": "31ab5f44",
   "metadata": {},
   "source": [
    "# ARAYÜZ"
   ]
  },
  {
   "cell_type": "code",
   "execution_count": 61,
   "id": "cc933b16",
   "metadata": {},
   "outputs": [],
   "source": [
    "import tkinter as tk\n",
    "from tkinter import ttk, messagebox  # Arayüz kütüphanelerinin import edilmesi"
   ]
  },
  {
   "cell_type": "code",
   "execution_count": 62,
   "id": "435804b5",
   "metadata": {},
   "outputs": [],
   "source": [
    "class MushroomClassifierApp:\n",
    "    def __init__(self, root):\n",
    "        self.root = root\n",
    "        self.root.title(\"Mushroom Classifier\")\n",
    "        self.root.geometry(\"500x500\")\n",
    "        self.root.resizable(False, False)\n",
    "        \n",
    "        # Stil oluştur\n",
    "        style = ttk.Style()\n",
    "        style.theme_use(\"clam\")\n",
    "        style.configure(\"TLabel\", background=\"white\", font=(\"Helvetica\", 12))\n",
    "        style.configure(\"TEntry\", font=(\"Helvetica\", 12))\n",
    "        style.configure(\"TButton\", background=\"#4a90e2\", foreground=\"white\", font=(\"Helvetica\", 12, \"bold\"))\n",
    "        self.root.configure(background=\"white\")\n",
    "\n",
    "        self.create_widgets()\n",
    "\n",
    "    def create_widgets(self):\n",
    "        # Başlık etiketi\n",
    "        title_label = ttk.Label(self.root, text=\"Mushroom Classifier\", font=(\"Helvetica\", 16, \"bold\"), background=\"white\")\n",
    "        title_label.grid(row=0, column=0, columnspan=2, pady=20)\n",
    "\n",
    "        # Özellikler için etiketler ve giriş alanları\n",
    "        self.entries = {}\n",
    "        for i, col in enumerate(x.columns):\n",
    "            label = ttk.Label(self.root, text=col)\n",
    "            label.grid(row=i+1, column=0, padx=10, pady=5, sticky=\"w\")\n",
    "            entry = ttk.Entry(self.root)\n",
    "            entry.grid(row=i+1, column=1, padx=10, pady=5, sticky=\"ew\")\n",
    "            self.entries[col] = entry\n",
    "\n",
    "        # Tahmin butonu\n",
    "        predict_button = ttk.Button(self.root, text=\"Predict\", command=self.predict)\n",
    "        predict_button.grid(row=len(x.columns)+1, column=0, columnspan=2, pady=20)\n",
    "\n",
    "        # Sonuç etiketi\n",
    "        self.result_label = ttk.Label(self.root, text=\"Prediction: \", font=(\"Helvetica\", 14, \"bold\"), background=\"white\")\n",
    "        self.result_label.grid(row=len(x.columns)+2, column=0, columnspan=2, pady=10)\n",
    "\n",
    "    def predict(self):\n",
    "        # Kullanıcı girdilerini al\n",
    "        input_data = {}\n",
    "        for col, entry in self.entries.items():\n",
    "            value = entry.get()\n",
    "            if value == '':\n",
    "                messagebox.showerror(\"Input Error\", f\"Please enter a value for {col}\")\n",
    "                return\n",
    "            input_data[col] = [value]\n",
    "\n",
    "        input_df = pd.DataFrame(input_data)\n",
    "        try:\n",
    "            prediction = model.predict(input_df)\n",
    "            self.result_label.config(text=f\"Prediction: {prediction[0]}\")\n",
    "        except Exception as e:\n",
    "            messagebox.showerror(\"Prediction Error\", str(e))\n",
    "\n",
    "if __name__ == \"__main__\":\n",
    "    root = tk.Tk()\n",
    "    app = MushroomClassifierApp(root)\n",
    "    root.mainloop()"
   ]
  },
  {
   "cell_type": "code",
   "execution_count": null,
   "id": "0301daaf",
   "metadata": {},
   "outputs": [],
   "source": []
  }
 ],
 "metadata": {
  "kernelspec": {
   "display_name": "Python 3 (ipykernel)",
   "language": "python",
   "name": "python3"
  },
  "language_info": {
   "codemirror_mode": {
    "name": "ipython",
    "version": 3
   },
   "file_extension": ".py",
   "mimetype": "text/x-python",
   "name": "python",
   "nbconvert_exporter": "python",
   "pygments_lexer": "ipython3",
   "version": "3.9.13"
  }
 },
 "nbformat": 4,
 "nbformat_minor": 5
}
